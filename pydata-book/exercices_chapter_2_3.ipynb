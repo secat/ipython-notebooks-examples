{
 "metadata": {
  "name": "",
  "signature": "sha256:22e2a198101600813021c2f88854447a47e707769168868b7fbea261b0ccd902"
 },
 "nbformat": 3,
 "nbformat_minor": 0,
 "worksheets": [
  {
   "cells": [
    {
     "cell_type": "markdown",
     "metadata": {},
     "source": [
      "## Exercices for Chapter 2.3 - US Baby Names 1880-2010"
     ]
    },
    {
     "cell_type": "code",
     "collapsed": false,
     "input": [
      "import pandas as pd\n",
      "\n",
      "names1880 = pd.read_csv('../pydata-book-src/ch02/names/yob1880.txt', names=['name', 'sex', 'births'])\n",
      "names1880[:10]"
     ],
     "language": "python",
     "metadata": {},
     "outputs": [
      {
       "html": [
        "<div style=\"max-height:1000px;max-width:1500px;overflow:auto;\">\n",
        "<table border=\"1\" class=\"dataframe\">\n",
        "  <thead>\n",
        "    <tr style=\"text-align: right;\">\n",
        "      <th></th>\n",
        "      <th>name</th>\n",
        "      <th>sex</th>\n",
        "      <th>births</th>\n",
        "    </tr>\n",
        "  </thead>\n",
        "  <tbody>\n",
        "    <tr>\n",
        "      <th>0</th>\n",
        "      <td>      Mary</td>\n",
        "      <td> F</td>\n",
        "      <td> 7065</td>\n",
        "    </tr>\n",
        "    <tr>\n",
        "      <th>1</th>\n",
        "      <td>      Anna</td>\n",
        "      <td> F</td>\n",
        "      <td> 2604</td>\n",
        "    </tr>\n",
        "    <tr>\n",
        "      <th>2</th>\n",
        "      <td>      Emma</td>\n",
        "      <td> F</td>\n",
        "      <td> 2003</td>\n",
        "    </tr>\n",
        "    <tr>\n",
        "      <th>3</th>\n",
        "      <td> Elizabeth</td>\n",
        "      <td> F</td>\n",
        "      <td> 1939</td>\n",
        "    </tr>\n",
        "    <tr>\n",
        "      <th>4</th>\n",
        "      <td>    Minnie</td>\n",
        "      <td> F</td>\n",
        "      <td> 1746</td>\n",
        "    </tr>\n",
        "    <tr>\n",
        "      <th>5</th>\n",
        "      <td>  Margaret</td>\n",
        "      <td> F</td>\n",
        "      <td> 1578</td>\n",
        "    </tr>\n",
        "    <tr>\n",
        "      <th>6</th>\n",
        "      <td>       Ida</td>\n",
        "      <td> F</td>\n",
        "      <td> 1472</td>\n",
        "    </tr>\n",
        "    <tr>\n",
        "      <th>7</th>\n",
        "      <td>     Alice</td>\n",
        "      <td> F</td>\n",
        "      <td> 1414</td>\n",
        "    </tr>\n",
        "    <tr>\n",
        "      <th>8</th>\n",
        "      <td>    Bertha</td>\n",
        "      <td> F</td>\n",
        "      <td> 1320</td>\n",
        "    </tr>\n",
        "    <tr>\n",
        "      <th>9</th>\n",
        "      <td>     Sarah</td>\n",
        "      <td> F</td>\n",
        "      <td> 1288</td>\n",
        "    </tr>\n",
        "  </tbody>\n",
        "</table>\n",
        "<p>10 rows \u00d7 3 columns</p>\n",
        "</div>"
       ],
       "metadata": {},
       "output_type": "pyout",
       "prompt_number": 1,
       "text": [
        "        name sex  births\n",
        "0       Mary   F    7065\n",
        "1       Anna   F    2604\n",
        "2       Emma   F    2003\n",
        "3  Elizabeth   F    1939\n",
        "4     Minnie   F    1746\n",
        "5   Margaret   F    1578\n",
        "6        Ida   F    1472\n",
        "7      Alice   F    1414\n",
        "8     Bertha   F    1320\n",
        "9      Sarah   F    1288\n",
        "\n",
        "[10 rows x 3 columns]"
       ]
      }
     ],
     "prompt_number": 1
    },
    {
     "cell_type": "code",
     "collapsed": false,
     "input": [
      "names1880.groupby('sex').births.sum()"
     ],
     "language": "python",
     "metadata": {},
     "outputs": [
      {
       "metadata": {},
       "output_type": "pyout",
       "prompt_number": 2,
       "text": [
        "sex\n",
        "F       90993\n",
        "M      110493\n",
        "Name: births, dtype: int64"
       ]
      }
     ],
     "prompt_number": 2
    },
    {
     "cell_type": "markdown",
     "metadata": {},
     "source": [
      "### Concatenate files with pandas:"
     ]
    },
    {
     "cell_type": "code",
     "collapsed": false,
     "input": [
      "# 2010 is the las available year right now\n",
      "years = range(1880, 2011)\n",
      "\n",
      "pieces = []\n",
      "columns = ['name', 'sex', 'births']\n",
      "\n",
      "for year in years:\n",
      "    path = '../pydata-book-src/ch02/names/yob{}.txt'.format(year)\n",
      "    frame = pd.read_csv(path, names=columns)\n",
      "    \n",
      "    frame['year'] = year\n",
      "    pieces.append(frame)\n",
      "    \n",
      "# Concatenate everything into a single DataFrame\n",
      "names = pd.concat(pieces, ignore_index=True)\n",
      "names[:10]"
     ],
     "language": "python",
     "metadata": {},
     "outputs": [
      {
       "html": [
        "<div style=\"max-height:1000px;max-width:1500px;overflow:auto;\">\n",
        "<table border=\"1\" class=\"dataframe\">\n",
        "  <thead>\n",
        "    <tr style=\"text-align: right;\">\n",
        "      <th></th>\n",
        "      <th>name</th>\n",
        "      <th>sex</th>\n",
        "      <th>births</th>\n",
        "      <th>year</th>\n",
        "    </tr>\n",
        "  </thead>\n",
        "  <tbody>\n",
        "    <tr>\n",
        "      <th>0</th>\n",
        "      <td>      Mary</td>\n",
        "      <td> F</td>\n",
        "      <td> 7065</td>\n",
        "      <td> 1880</td>\n",
        "    </tr>\n",
        "    <tr>\n",
        "      <th>1</th>\n",
        "      <td>      Anna</td>\n",
        "      <td> F</td>\n",
        "      <td> 2604</td>\n",
        "      <td> 1880</td>\n",
        "    </tr>\n",
        "    <tr>\n",
        "      <th>2</th>\n",
        "      <td>      Emma</td>\n",
        "      <td> F</td>\n",
        "      <td> 2003</td>\n",
        "      <td> 1880</td>\n",
        "    </tr>\n",
        "    <tr>\n",
        "      <th>3</th>\n",
        "      <td> Elizabeth</td>\n",
        "      <td> F</td>\n",
        "      <td> 1939</td>\n",
        "      <td> 1880</td>\n",
        "    </tr>\n",
        "    <tr>\n",
        "      <th>4</th>\n",
        "      <td>    Minnie</td>\n",
        "      <td> F</td>\n",
        "      <td> 1746</td>\n",
        "      <td> 1880</td>\n",
        "    </tr>\n",
        "    <tr>\n",
        "      <th>5</th>\n",
        "      <td>  Margaret</td>\n",
        "      <td> F</td>\n",
        "      <td> 1578</td>\n",
        "      <td> 1880</td>\n",
        "    </tr>\n",
        "    <tr>\n",
        "      <th>6</th>\n",
        "      <td>       Ida</td>\n",
        "      <td> F</td>\n",
        "      <td> 1472</td>\n",
        "      <td> 1880</td>\n",
        "    </tr>\n",
        "    <tr>\n",
        "      <th>7</th>\n",
        "      <td>     Alice</td>\n",
        "      <td> F</td>\n",
        "      <td> 1414</td>\n",
        "      <td> 1880</td>\n",
        "    </tr>\n",
        "    <tr>\n",
        "      <th>8</th>\n",
        "      <td>    Bertha</td>\n",
        "      <td> F</td>\n",
        "      <td> 1320</td>\n",
        "      <td> 1880</td>\n",
        "    </tr>\n",
        "    <tr>\n",
        "      <th>9</th>\n",
        "      <td>     Sarah</td>\n",
        "      <td> F</td>\n",
        "      <td> 1288</td>\n",
        "      <td> 1880</td>\n",
        "    </tr>\n",
        "  </tbody>\n",
        "</table>\n",
        "<p>10 rows \u00d7 4 columns</p>\n",
        "</div>"
       ],
       "metadata": {},
       "output_type": "pyout",
       "prompt_number": 3,
       "text": [
        "        name sex  births  year\n",
        "0       Mary   F    7065  1880\n",
        "1       Anna   F    2604  1880\n",
        "2       Emma   F    2003  1880\n",
        "3  Elizabeth   F    1939  1880\n",
        "4     Minnie   F    1746  1880\n",
        "5   Margaret   F    1578  1880\n",
        "6        Ida   F    1472  1880\n",
        "7      Alice   F    1414  1880\n",
        "8     Bertha   F    1320  1880\n",
        "9      Sarah   F    1288  1880\n",
        "\n",
        "[10 rows x 4 columns]"
       ]
      }
     ],
     "prompt_number": 3
    },
    {
     "cell_type": "code",
     "collapsed": false,
     "input": [
      "total_births = names.pivot_table('births', rows='year', cols='sex', aggfunc=sum)\n",
      "total_births.tail()"
     ],
     "language": "python",
     "metadata": {},
     "outputs": [
      {
       "html": [
        "<div style=\"max-height:1000px;max-width:1500px;overflow:auto;\">\n",
        "<table border=\"1\" class=\"dataframe\">\n",
        "  <thead>\n",
        "    <tr style=\"text-align: right;\">\n",
        "      <th>sex</th>\n",
        "      <th>F</th>\n",
        "      <th>M</th>\n",
        "    </tr>\n",
        "    <tr>\n",
        "      <th>year</th>\n",
        "      <th></th>\n",
        "      <th></th>\n",
        "    </tr>\n",
        "  </thead>\n",
        "  <tbody>\n",
        "    <tr>\n",
        "      <th>2006</th>\n",
        "      <td> 1896468</td>\n",
        "      <td> 2050234</td>\n",
        "    </tr>\n",
        "    <tr>\n",
        "      <th>2007</th>\n",
        "      <td> 1916888</td>\n",
        "      <td> 2069242</td>\n",
        "    </tr>\n",
        "    <tr>\n",
        "      <th>2008</th>\n",
        "      <td> 1883645</td>\n",
        "      <td> 2032310</td>\n",
        "    </tr>\n",
        "    <tr>\n",
        "      <th>2009</th>\n",
        "      <td> 1827643</td>\n",
        "      <td> 1973359</td>\n",
        "    </tr>\n",
        "    <tr>\n",
        "      <th>2010</th>\n",
        "      <td> 1759010</td>\n",
        "      <td> 1898382</td>\n",
        "    </tr>\n",
        "  </tbody>\n",
        "</table>\n",
        "<p>5 rows \u00d7 2 columns</p>\n",
        "</div>"
       ],
       "metadata": {},
       "output_type": "pyout",
       "prompt_number": 4,
       "text": [
        "sex         F        M\n",
        "year                  \n",
        "2006  1896468  2050234\n",
        "2007  1916888  2069242\n",
        "2008  1883645  2032310\n",
        "2009  1827643  1973359\n",
        "2010  1759010  1898382\n",
        "\n",
        "[5 rows x 2 columns]"
       ]
      }
     ],
     "prompt_number": 4
    },
    {
     "cell_type": "code",
     "collapsed": false,
     "input": [
      "total_births.plot(title='Total births by sex and year')"
     ],
     "language": "python",
     "metadata": {},
     "outputs": [
      {
       "metadata": {},
       "output_type": "pyout",
       "prompt_number": 5,
       "text": [
        "<matplotlib.axes.AxesSubplot at 0x105147210>"
       ]
      },
      {
       "metadata": {},
       "output_type": "display_data",
       "png": "[encoded data removed]",
       "text": [
        "<matplotlib.figure.Figure at 0x1042dd450>"
       ]
      }
     ],
     "prompt_number": 5
    },
    {
     "cell_type": "code",
     "collapsed": false,
     "input": [
      "def add_prop(group):\n",
      "    # Integer division floors\n",
      "    births = group.births.astype(float)\n",
      "    \n",
      "    group['prop'] = births / births.sum()\n",
      "    return group\n",
      "\n",
      "names = names.groupby(['year', 'sex']).apply(add_prop)"
     ],
     "language": "python",
     "metadata": {},
     "outputs": [],
     "prompt_number": 6
    },
    {
     "cell_type": "code",
     "collapsed": false,
     "input": [
      "names[:10]"
     ],
     "language": "python",
     "metadata": {},
     "outputs": [
      {
       "html": [
        "<div style=\"max-height:1000px;max-width:1500px;overflow:auto;\">\n",
        "<table border=\"1\" class=\"dataframe\">\n",
        "  <thead>\n",
        "    <tr style=\"text-align: right;\">\n",
        "      <th></th>\n",
        "      <th>name</th>\n",
        "      <th>sex</th>\n",
        "      <th>births</th>\n",
        "      <th>year</th>\n",
        "      <th>prop</th>\n",
        "    </tr>\n",
        "  </thead>\n",
        "  <tbody>\n",
        "    <tr>\n",
        "      <th>0</th>\n",
        "      <td>      Mary</td>\n",
        "      <td> F</td>\n",
        "      <td> 7065</td>\n",
        "      <td> 1880</td>\n",
        "      <td> 0.077643</td>\n",
        "    </tr>\n",
        "    <tr>\n",
        "      <th>1</th>\n",
        "      <td>      Anna</td>\n",
        "      <td> F</td>\n",
        "      <td> 2604</td>\n",
        "      <td> 1880</td>\n",
        "      <td> 0.028618</td>\n",
        "    </tr>\n",
        "    <tr>\n",
        "      <th>2</th>\n",
        "      <td>      Emma</td>\n",
        "      <td> F</td>\n",
        "      <td> 2003</td>\n",
        "      <td> 1880</td>\n",
        "      <td> 0.022013</td>\n",
        "    </tr>\n",
        "    <tr>\n",
        "      <th>3</th>\n",
        "      <td> Elizabeth</td>\n",
        "      <td> F</td>\n",
        "      <td> 1939</td>\n",
        "      <td> 1880</td>\n",
        "      <td> 0.021309</td>\n",
        "    </tr>\n",
        "    <tr>\n",
        "      <th>4</th>\n",
        "      <td>    Minnie</td>\n",
        "      <td> F</td>\n",
        "      <td> 1746</td>\n",
        "      <td> 1880</td>\n",
        "      <td> 0.019188</td>\n",
        "    </tr>\n",
        "    <tr>\n",
        "      <th>5</th>\n",
        "      <td>  Margaret</td>\n",
        "      <td> F</td>\n",
        "      <td> 1578</td>\n",
        "      <td> 1880</td>\n",
        "      <td> 0.017342</td>\n",
        "    </tr>\n",
        "    <tr>\n",
        "      <th>6</th>\n",
        "      <td>       Ida</td>\n",
        "      <td> F</td>\n",
        "      <td> 1472</td>\n",
        "      <td> 1880</td>\n",
        "      <td> 0.016177</td>\n",
        "    </tr>\n",
        "    <tr>\n",
        "      <th>7</th>\n",
        "      <td>     Alice</td>\n",
        "      <td> F</td>\n",
        "      <td> 1414</td>\n",
        "      <td> 1880</td>\n",
        "      <td> 0.015540</td>\n",
        "    </tr>\n",
        "    <tr>\n",
        "      <th>8</th>\n",
        "      <td>    Bertha</td>\n",
        "      <td> F</td>\n",
        "      <td> 1320</td>\n",
        "      <td> 1880</td>\n",
        "      <td> 0.014507</td>\n",
        "    </tr>\n",
        "    <tr>\n",
        "      <th>9</th>\n",
        "      <td>     Sarah</td>\n",
        "      <td> F</td>\n",
        "      <td> 1288</td>\n",
        "      <td> 1880</td>\n",
        "      <td> 0.014155</td>\n",
        "    </tr>\n",
        "  </tbody>\n",
        "</table>\n",
        "<p>10 rows \u00d7 5 columns</p>\n",
        "</div>"
       ],
       "metadata": {},
       "output_type": "pyout",
       "prompt_number": 7,
       "text": [
        "        name sex  births  year      prop\n",
        "0       Mary   F    7065  1880  0.077643\n",
        "1       Anna   F    2604  1880  0.028618\n",
        "2       Emma   F    2003  1880  0.022013\n",
        "3  Elizabeth   F    1939  1880  0.021309\n",
        "4     Minnie   F    1746  1880  0.019188\n",
        "5   Margaret   F    1578  1880  0.017342\n",
        "6        Ida   F    1472  1880  0.016177\n",
        "7      Alice   F    1414  1880  0.015540\n",
        "8     Bertha   F    1320  1880  0.014507\n",
        "9      Sarah   F    1288  1880  0.014155\n",
        "\n",
        "[10 rows x 5 columns]"
       ]
      }
     ],
     "prompt_number": 7
    },
    {
     "cell_type": "markdown",
     "metadata": {},
     "source": [
      "### Sanity check"
     ]
    },
    {
     "cell_type": "code",
     "collapsed": false,
     "input": [
      "import numpy as np\n",
      "\n",
      "np.allclose(names.groupby(['year', 'sex']).prop.sum(), 1)"
     ],
     "language": "python",
     "metadata": {},
     "outputs": [
      {
       "metadata": {},
       "output_type": "pyout",
       "prompt_number": 8,
       "text": [
        "True"
       ]
      }
     ],
     "prompt_number": 8
    },
    {
     "cell_type": "code",
     "collapsed": false,
     "input": [
      "def get_top1000(group):\n",
      "    return group.sort_index(by='births', ascending=False)[:1000]\n",
      "\n",
      "grouped = names.groupby(['year', 'sex'])\n",
      "top1000 = grouped.apply(get_top1000)\n",
      "top1000[:10]"
     ],
     "language": "python",
     "metadata": {},
     "outputs": [
      {
       "html": [
        "<div style=\"max-height:1000px;max-width:1500px;overflow:auto;\">\n",
        "<table border=\"1\" class=\"dataframe\">\n",
        "  <thead>\n",
        "    <tr style=\"text-align: right;\">\n",
        "      <th></th>\n",
        "      <th></th>\n",
        "      <th></th>\n",
        "      <th>name</th>\n",
        "      <th>sex</th>\n",
        "      <th>births</th>\n",
        "      <th>year</th>\n",
        "      <th>prop</th>\n",
        "    </tr>\n",
        "    <tr>\n",
        "      <th>year</th>\n",
        "      <th>sex</th>\n",
        "      <th></th>\n",
        "      <th></th>\n",
        "      <th></th>\n",
        "      <th></th>\n",
        "      <th></th>\n",
        "      <th></th>\n",
        "    </tr>\n",
        "  </thead>\n",
        "  <tbody>\n",
        "    <tr>\n",
        "      <th rowspan=\"10\" valign=\"top\">1880</th>\n",
        "      <th rowspan=\"10\" valign=\"top\">F</th>\n",
        "      <th>0</th>\n",
        "      <td>      Mary</td>\n",
        "      <td> F</td>\n",
        "      <td> 7065</td>\n",
        "      <td> 1880</td>\n",
        "      <td> 0.077643</td>\n",
        "    </tr>\n",
        "    <tr>\n",
        "      <th>1</th>\n",
        "      <td>      Anna</td>\n",
        "      <td> F</td>\n",
        "      <td> 2604</td>\n",
        "      <td> 1880</td>\n",
        "      <td> 0.028618</td>\n",
        "    </tr>\n",
        "    <tr>\n",
        "      <th>2</th>\n",
        "      <td>      Emma</td>\n",
        "      <td> F</td>\n",
        "      <td> 2003</td>\n",
        "      <td> 1880</td>\n",
        "      <td> 0.022013</td>\n",
        "    </tr>\n",
        "    <tr>\n",
        "      <th>3</th>\n",
        "      <td> Elizabeth</td>\n",
        "      <td> F</td>\n",
        "      <td> 1939</td>\n",
        "      <td> 1880</td>\n",
        "      <td> 0.021309</td>\n",
        "    </tr>\n",
        "    <tr>\n",
        "      <th>4</th>\n",
        "      <td>    Minnie</td>\n",
        "      <td> F</td>\n",
        "      <td> 1746</td>\n",
        "      <td> 1880</td>\n",
        "      <td> 0.019188</td>\n",
        "    </tr>\n",
        "    <tr>\n",
        "      <th>5</th>\n",
        "      <td>  Margaret</td>\n",
        "      <td> F</td>\n",
        "      <td> 1578</td>\n",
        "      <td> 1880</td>\n",
        "      <td> 0.017342</td>\n",
        "    </tr>\n",
        "    <tr>\n",
        "      <th>6</th>\n",
        "      <td>       Ida</td>\n",
        "      <td> F</td>\n",
        "      <td> 1472</td>\n",
        "      <td> 1880</td>\n",
        "      <td> 0.016177</td>\n",
        "    </tr>\n",
        "    <tr>\n",
        "      <th>7</th>\n",
        "      <td>     Alice</td>\n",
        "      <td> F</td>\n",
        "      <td> 1414</td>\n",
        "      <td> 1880</td>\n",
        "      <td> 0.015540</td>\n",
        "    </tr>\n",
        "    <tr>\n",
        "      <th>8</th>\n",
        "      <td>    Bertha</td>\n",
        "      <td> F</td>\n",
        "      <td> 1320</td>\n",
        "      <td> 1880</td>\n",
        "      <td> 0.014507</td>\n",
        "    </tr>\n",
        "    <tr>\n",
        "      <th>9</th>\n",
        "      <td>     Sarah</td>\n",
        "      <td> F</td>\n",
        "      <td> 1288</td>\n",
        "      <td> 1880</td>\n",
        "      <td> 0.014155</td>\n",
        "    </tr>\n",
        "  </tbody>\n",
        "</table>\n",
        "<p>10 rows \u00d7 5 columns</p>\n",
        "</div>"
       ],
       "metadata": {},
       "output_type": "pyout",
       "prompt_number": 9,
       "text": [
        "                 name sex  births  year      prop\n",
        "year sex                                         \n",
        "1880 F   0       Mary   F    7065  1880  0.077643\n",
        "         1       Anna   F    2604  1880  0.028618\n",
        "         2       Emma   F    2003  1880  0.022013\n",
        "         3  Elizabeth   F    1939  1880  0.021309\n",
        "         4     Minnie   F    1746  1880  0.019188\n",
        "         5   Margaret   F    1578  1880  0.017342\n",
        "         6        Ida   F    1472  1880  0.016177\n",
        "         7      Alice   F    1414  1880  0.015540\n",
        "         8     Bertha   F    1320  1880  0.014507\n",
        "         9      Sarah   F    1288  1880  0.014155\n",
        "\n",
        "[10 rows x 5 columns]"
       ]
      }
     ],
     "prompt_number": 9
    },
    {
     "cell_type": "markdown",
     "metadata": {},
     "source": [
      "## Analyzing Naming Trends"
     ]
    },
    {
     "cell_type": "code",
     "collapsed": false,
     "input": [
      "boys = top1000[top1000.sex == 'M']\n",
      "girls = top1000[top1000.sex == 'F']"
     ],
     "language": "python",
     "metadata": {},
     "outputs": [],
     "prompt_number": 10
    },
    {
     "cell_type": "code",
     "collapsed": false,
     "input": [
      "total_births = top1000.pivot_table('births', rows='year', cols='name', aggfunc=sum)"
     ],
     "language": "python",
     "metadata": {},
     "outputs": [],
     "prompt_number": 11
    },
    {
     "cell_type": "code",
     "collapsed": false,
     "input": [
      "subset = total_births[['John', 'Harry', 'Mary', 'Marilyn']]"
     ],
     "language": "python",
     "metadata": {},
     "outputs": [],
     "prompt_number": 12
    },
    {
     "cell_type": "code",
     "collapsed": false,
     "input": [
      "subset.plot(subplots=True, figsize=(12,10), grid=False, title='Number of births per year')"
     ],
     "language": "python",
     "metadata": {},
     "outputs": [
      {
       "metadata": {},
       "output_type": "pyout",
       "prompt_number": 13,
       "text": [
        "array([<matplotlib.axes.AxesSubplot object at 0x1097e5c90>,\n",
        "       <matplotlib.axes.AxesSubplot object at 0x1182ce1d0>,\n",
        "       <matplotlib.axes.AxesSubplot object at 0x1182e9d10>,\n",
        "       <matplotlib.axes.AxesSubplot object at 0x118284190>], dtype=object)"
       ]
      },
      {
       "metadata": {},
       "output_type": "display_data",
       "png": "[encoded data removed]",
       "text": [
        "<matplotlib.figure.Figure at 0x10d43d850>"
       ]
      }
     ],
     "prompt_number": 13
    },
    {
     "cell_type": "markdown",
     "metadata": {},
     "source": [
      "### Measuring the increase in naming diversity"
     ]
    },
    {
     "cell_type": "code",
     "collapsed": false,
     "input": [
      "table = top1000.pivot_table('prop', rows='year', cols='sex', aggfunc=sum)"
     ],
     "language": "python",
     "metadata": {},
     "outputs": [],
     "prompt_number": 14
    },
    {
     "cell_type": "code",
     "collapsed": false,
     "input": [
      "table.plot(title='Sum of table1000.prop by year and sex', yticks=np.linspace(0, 1.2, 13), xticks=(range(1880, 2020, 10)), figsize=(12,4), grid=False)"
     ],
     "language": "python",
     "metadata": {},
     "outputs": [
      {
       "metadata": {},
       "output_type": "pyout",
       "prompt_number": 28,
       "text": [
        "<matplotlib.axes.AxesSubplot at 0x10bfd1550>"
       ]
      },
      {
       "metadata": {},
       "output_type": "display_data",
       "png": "[encoded data removed]",
       "text": [
        "<matplotlib.figure.Figure at 0x10bfd2b10>"
       ]
      }
     ],
     "prompt_number": 28
    },
    {
     "cell_type": "markdown",
     "metadata": {},
     "source": [
      "Get the number of distinct names, taken in order of popularity from highest to lowest, in the top 50% of births."
     ]
    },
    {
     "cell_type": "code",
     "collapsed": false,
     "input": [
      "df = boys[boys.year == 2010]"
     ],
     "language": "python",
     "metadata": {},
     "outputs": [],
     "prompt_number": 15
    },
    {
     "cell_type": "code",
     "collapsed": false,
     "input": [
      "prop_cumsum = df.sort_index(by='prop', ascending=False).prop.cumsum()\n",
      "prop_cumsum[:10]"
     ],
     "language": "python",
     "metadata": {},
     "outputs": [
      {
       "metadata": {},
       "output_type": "pyout",
       "prompt_number": 16,
       "text": [
        "year  sex         \n",
        "2010  M    1676644    0.011523\n",
        "           1676645    0.020934\n",
        "           1676646    0.029959\n",
        "           1676647    0.038930\n",
        "           1676648    0.047817\n",
        "           1676649    0.056579\n",
        "           1676650    0.065155\n",
        "           1676651    0.073414\n",
        "           1676652    0.081528\n",
        "           1676653    0.089621\n",
        "Name: prop, dtype: float64"
       ]
      }
     ],
     "prompt_number": 16
    },
    {
     "cell_type": "code",
     "collapsed": false,
     "input": [
      "prop_cumsum.values.searchsorted(0.5)"
     ],
     "language": "python",
     "metadata": {},
     "outputs": [
      {
       "metadata": {},
       "output_type": "pyout",
       "prompt_number": 17,
       "text": [
        "116"
       ]
      }
     ],
     "prompt_number": 17
    },
    {
     "cell_type": "code",
     "collapsed": false,
     "input": [
      "df = boys[boys.year == 1900]\n",
      "in1900 = df.sort_index(by='prop', ascending=False).prop.cumsum()\n",
      "in1900.values.searchsorted(0.5) + 1"
     ],
     "language": "python",
     "metadata": {},
     "outputs": [
      {
       "metadata": {},
       "output_type": "pyout",
       "prompt_number": 18,
       "text": [
        "25"
       ]
      }
     ],
     "prompt_number": 18
    },
    {
     "cell_type": "code",
     "collapsed": false,
     "input": [
      "def get_quantile_count(group, q=0.5):\n",
      "    group = group.sort_index(by='prop', ascending=False)\n",
      "    return group.prop.cumsum().values.searchsorted(q) + 1\n",
      "\n",
      "diversity = top1000.groupby(['year', 'sex']).apply(get_quantile_count)\n",
      "diversity = diversity.unstack('sex')"
     ],
     "language": "python",
     "metadata": {},
     "outputs": [],
     "prompt_number": 22
    },
    {
     "cell_type": "code",
     "collapsed": false,
     "input": [
      "diversity.head()"
     ],
     "language": "python",
     "metadata": {},
     "outputs": [
      {
       "html": [
        "<div style=\"max-height:1000px;max-width:1500px;overflow:auto;\">\n",
        "<table border=\"1\" class=\"dataframe\">\n",
        "  <thead>\n",
        "    <tr style=\"text-align: right;\">\n",
        "      <th>sex</th>\n",
        "      <th>F</th>\n",
        "      <th>M</th>\n",
        "    </tr>\n",
        "    <tr>\n",
        "      <th>year</th>\n",
        "      <th></th>\n",
        "      <th></th>\n",
        "    </tr>\n",
        "  </thead>\n",
        "  <tbody>\n",
        "    <tr>\n",
        "      <th>1880</th>\n",
        "      <td> 38</td>\n",
        "      <td> 14</td>\n",
        "    </tr>\n",
        "    <tr>\n",
        "      <th>1881</th>\n",
        "      <td> 38</td>\n",
        "      <td> 14</td>\n",
        "    </tr>\n",
        "    <tr>\n",
        "      <th>1882</th>\n",
        "      <td> 38</td>\n",
        "      <td> 15</td>\n",
        "    </tr>\n",
        "    <tr>\n",
        "      <th>1883</th>\n",
        "      <td> 39</td>\n",
        "      <td> 15</td>\n",
        "    </tr>\n",
        "    <tr>\n",
        "      <th>1884</th>\n",
        "      <td> 39</td>\n",
        "      <td> 16</td>\n",
        "    </tr>\n",
        "  </tbody>\n",
        "</table>\n",
        "<p>5 rows \u00d7 2 columns</p>\n",
        "</div>"
       ],
       "metadata": {},
       "output_type": "pyout",
       "prompt_number": 23,
       "text": [
        "sex    F   M\n",
        "year        \n",
        "1880  38  14\n",
        "1881  38  14\n",
        "1882  38  15\n",
        "1883  39  15\n",
        "1884  39  16\n",
        "\n",
        "[5 rows x 2 columns]"
       ]
      }
     ],
     "prompt_number": 23
    },
    {
     "cell_type": "code",
     "collapsed": false,
     "input": [
      "diversity.plot(title='Number of popular names in top 50%', figsize=(12,4))"
     ],
     "language": "python",
     "metadata": {},
     "outputs": [
      {
       "metadata": {},
       "output_type": "pyout",
       "prompt_number": 25,
       "text": [
        "<matplotlib.axes.AxesSubplot at 0x108f69610>"
       ]
      },
      {
       "metadata": {},
       "output_type": "display_data",
       "png": "[encoded data removed]",
       "text": [
        "<matplotlib.figure.Figure at 0x120f3bc50>"
       ]
      }
     ],
     "prompt_number": 25
    },
    {
     "cell_type": "markdown",
     "metadata": {},
     "source": [
      "### The \"Last letter\" Revolution"
     ]
    },
    {
     "cell_type": "code",
     "collapsed": false,
     "input": [
      "# extract last letter from name column\n",
      "get_last_letter = lambda x: x[-1]\n",
      "last_letters = names.name.map(get_last_letter)\n",
      "last_letters.name = 'last_letter'\n",
      "table = names.pivot_table('births', rows=last_letters, cols=['sex', 'year'], aggfunc=sum)"
     ],
     "language": "python",
     "metadata": {},
     "outputs": [],
     "prompt_number": 26
    },
    {
     "cell_type": "code",
     "collapsed": false,
     "input": [
      "subtable = table.reindex(columns=[1910, 1960, 2010], level='year')\n",
      "subtable.head()"
     ],
     "language": "python",
     "metadata": {},
     "outputs": [
      {
       "html": [
        "<div style=\"max-height:1000px;max-width:1500px;overflow:auto;\">\n",
        "<table border=\"1\" class=\"dataframe\">\n",
        "  <thead>\n",
        "    <tr>\n",
        "      <th>sex</th>\n",
        "      <th colspan=\"3\" halign=\"left\">F</th>\n",
        "      <th colspan=\"3\" halign=\"left\">M</th>\n",
        "    </tr>\n",
        "    <tr>\n",
        "      <th>year</th>\n",
        "      <th>1910</th>\n",
        "      <th>1960</th>\n",
        "      <th>2010</th>\n",
        "      <th>1910</th>\n",
        "      <th>1960</th>\n",
        "      <th>2010</th>\n",
        "    </tr>\n",
        "    <tr>\n",
        "      <th>last_letter</th>\n",
        "      <th></th>\n",
        "      <th></th>\n",
        "      <th></th>\n",
        "      <th></th>\n",
        "      <th></th>\n",
        "      <th></th>\n",
        "    </tr>\n",
        "  </thead>\n",
        "  <tbody>\n",
        "    <tr>\n",
        "      <th>a</th>\n",
        "      <td> 108376</td>\n",
        "      <td> 691247</td>\n",
        "      <td> 670605</td>\n",
        "      <td>   977</td>\n",
        "      <td>   5204</td>\n",
        "      <td>  28438</td>\n",
        "    </tr>\n",
        "    <tr>\n",
        "      <th>b</th>\n",
        "      <td>    NaN</td>\n",
        "      <td>    694</td>\n",
        "      <td>    450</td>\n",
        "      <td>   411</td>\n",
        "      <td>   3912</td>\n",
        "      <td>  38859</td>\n",
        "    </tr>\n",
        "    <tr>\n",
        "      <th>c</th>\n",
        "      <td>      5</td>\n",
        "      <td>     49</td>\n",
        "      <td>    946</td>\n",
        "      <td>   482</td>\n",
        "      <td>  15476</td>\n",
        "      <td>  23125</td>\n",
        "    </tr>\n",
        "    <tr>\n",
        "      <th>d</th>\n",
        "      <td>   6750</td>\n",
        "      <td>   3729</td>\n",
        "      <td>   2607</td>\n",
        "      <td> 22111</td>\n",
        "      <td> 262112</td>\n",
        "      <td>  44398</td>\n",
        "    </tr>\n",
        "    <tr>\n",
        "      <th>e</th>\n",
        "      <td> 133569</td>\n",
        "      <td> 435013</td>\n",
        "      <td> 313833</td>\n",
        "      <td> 28655</td>\n",
        "      <td> 178823</td>\n",
        "      <td> 129012</td>\n",
        "    </tr>\n",
        "  </tbody>\n",
        "</table>\n",
        "<p>5 rows \u00d7 6 columns</p>\n",
        "</div>"
       ],
       "metadata": {},
       "output_type": "pyout",
       "prompt_number": 27,
       "text": [
        "sex               F                      M                \n",
        "year           1910    1960    2010   1910    1960    2010\n",
        "last_letter                                               \n",
        "a            108376  691247  670605    977    5204   28438\n",
        "b               NaN     694     450    411    3912   38859\n",
        "c                 5      49     946    482   15476   23125\n",
        "d              6750    3729    2607  22111  262112   44398\n",
        "e            133569  435013  313833  28655  178823  129012\n",
        "\n",
        "[5 rows x 6 columns]"
       ]
      }
     ],
     "prompt_number": 27
    },
    {
     "cell_type": "code",
     "collapsed": false,
     "input": [
      "subtable.sum()"
     ],
     "language": "python",
     "metadata": {},
     "outputs": [
      {
       "metadata": {},
       "output_type": "pyout",
       "prompt_number": 28,
       "text": [
        "sex  year\n",
        "F    1910     396416\n",
        "     1960    2022062\n",
        "     2010    1759010\n",
        "M    1910     194198\n",
        "     1960    2132588\n",
        "     2010    1898382\n",
        "dtype: float64"
       ]
      }
     ],
     "prompt_number": 28
    },
    {
     "cell_type": "code",
     "collapsed": false,
     "input": [
      "letter_prop = subtable / subtable.sum().astype(float)"
     ],
     "language": "python",
     "metadata": {},
     "outputs": [],
     "prompt_number": 29
    },
    {
     "cell_type": "code",
     "collapsed": false,
     "input": [
      "import matplotlib.pyplot as plt\n",
      "\n",
      "fig, axes = plt.subplots(2, 1, figsize=(10, 8))\n",
      "letter_prop['M'].plot(kind='bar', rot=0, ax=axes[0], title='Male')\n",
      "letter_prop['F'].plot(kind='bar', rot=0, ax=axes[1], title='Female', legend=False)"
     ],
     "language": "python",
     "metadata": {},
     "outputs": [
      {
       "metadata": {},
       "output_type": "pyout",
       "prompt_number": 31,
       "text": [
        "<matplotlib.axes.AxesSubplot at 0x112253dd0>"
       ]
      },
      {
       "metadata": {},
       "output_type": "display_data",
       "png": "[encoded data removed]",
       "text": [
        "<matplotlib.figure.Figure at 0x121f96a90>"
       ]
      }
     ],
     "prompt_number": 31
    },
    {
     "cell_type": "code",
     "collapsed": false,
     "input": [
      "letter_prop = table / table.sum().astype(float)"
     ],
     "language": "python",
     "metadata": {},
     "outputs": [],
     "prompt_number": 32
    },
    {
     "cell_type": "code",
     "collapsed": false,
     "input": [
      "dny_ts = letter_prop.ix[['d', 'n', 'y'], 'M'].T"
     ],
     "language": "python",
     "metadata": {},
     "outputs": [],
     "prompt_number": 33
    },
    {
     "cell_type": "code",
     "collapsed": false,
     "input": [
      "dny_ts.head()"
     ],
     "language": "python",
     "metadata": {},
     "outputs": [
      {
       "html": [
        "<div style=\"max-height:1000px;max-width:1500px;overflow:auto;\">\n",
        "<table border=\"1\" class=\"dataframe\">\n",
        "  <thead>\n",
        "    <tr style=\"text-align: right;\">\n",
        "      <th></th>\n",
        "      <th>d</th>\n",
        "      <th>n</th>\n",
        "      <th>y</th>\n",
        "    </tr>\n",
        "    <tr>\n",
        "      <th>year</th>\n",
        "      <th></th>\n",
        "      <th></th>\n",
        "      <th></th>\n",
        "    </tr>\n",
        "  </thead>\n",
        "  <tbody>\n",
        "    <tr>\n",
        "      <th>1880</th>\n",
        "      <td> 0.083055</td>\n",
        "      <td> 0.153213</td>\n",
        "      <td> 0.075760</td>\n",
        "    </tr>\n",
        "    <tr>\n",
        "      <th>1881</th>\n",
        "      <td> 0.083247</td>\n",
        "      <td> 0.153214</td>\n",
        "      <td> 0.077451</td>\n",
        "    </tr>\n",
        "    <tr>\n",
        "      <th>1882</th>\n",
        "      <td> 0.085340</td>\n",
        "      <td> 0.149560</td>\n",
        "      <td> 0.077537</td>\n",
        "    </tr>\n",
        "    <tr>\n",
        "      <th>1883</th>\n",
        "      <td> 0.084066</td>\n",
        "      <td> 0.151646</td>\n",
        "      <td> 0.079144</td>\n",
        "    </tr>\n",
        "    <tr>\n",
        "      <th>1884</th>\n",
        "      <td> 0.086120</td>\n",
        "      <td> 0.149915</td>\n",
        "      <td> 0.080405</td>\n",
        "    </tr>\n",
        "  </tbody>\n",
        "</table>\n",
        "<p>5 rows \u00d7 3 columns</p>\n",
        "</div>"
       ],
       "metadata": {},
       "output_type": "pyout",
       "prompt_number": 34,
       "text": [
        "             d         n         y\n",
        "year                              \n",
        "1880  0.083055  0.153213  0.075760\n",
        "1881  0.083247  0.153214  0.077451\n",
        "1882  0.085340  0.149560  0.077537\n",
        "1883  0.084066  0.151646  0.079144\n",
        "1884  0.086120  0.149915  0.080405\n",
        "\n",
        "[5 rows x 3 columns]"
       ]
      }
     ],
     "prompt_number": 34
    },
    {
     "cell_type": "code",
     "collapsed": false,
     "input": [
      "dny_ts.plot(figsize=(12,4))"
     ],
     "language": "python",
     "metadata": {},
     "outputs": [
      {
       "metadata": {},
       "output_type": "pyout",
       "prompt_number": 36,
       "text": [
        "<matplotlib.axes.AxesSubplot at 0x118ceefd0>"
       ]
      },
      {
       "metadata": {},
       "output_type": "display_data",
       "png": "[encoded data removed]",
       "text": [
        "<matplotlib.figure.Figure at 0x118224f90>"
       ]
      }
     ],
     "prompt_number": 36
    },
    {
     "cell_type": "markdown",
     "metadata": {},
     "source": [
      "### Boy names that became girl names (and vice versa)\n",
      "\n",
      "As an example, let search for Lesley or Leslie."
     ]
    },
    {
     "cell_type": "code",
     "collapsed": false,
     "input": [
      "all_names = top1000.name.unique()"
     ],
     "language": "python",
     "metadata": {},
     "outputs": [],
     "prompt_number": 37
    },
    {
     "cell_type": "code",
     "collapsed": false,
     "input": [
      "mask = np.array(['lesl' in x.lower() for x in all_names])"
     ],
     "language": "python",
     "metadata": {},
     "outputs": [],
     "prompt_number": 38
    },
    {
     "cell_type": "code",
     "collapsed": false,
     "input": [
      "lesley_like = all_names[mask]\n",
      "lesley_like"
     ],
     "language": "python",
     "metadata": {},
     "outputs": [
      {
       "metadata": {},
       "output_type": "pyout",
       "prompt_number": 40,
       "text": [
        "array(['Leslie', 'Lesley', 'Leslee', 'Lesli', 'Lesly'], dtype=object)"
       ]
      }
     ],
     "prompt_number": 40
    },
    {
     "cell_type": "code",
     "collapsed": false,
     "input": [
      "filtered = top1000[top1000.name.isin(lesley_like)]"
     ],
     "language": "python",
     "metadata": {},
     "outputs": [],
     "prompt_number": 41
    },
    {
     "cell_type": "code",
     "collapsed": false,
     "input": [
      "filtered.groupby('name').births.sum()"
     ],
     "language": "python",
     "metadata": {},
     "outputs": [
      {
       "metadata": {},
       "output_type": "pyout",
       "prompt_number": 42,
       "text": [
        "name\n",
        "Leslee      1082\n",
        "Lesley     35022\n",
        "Lesli        929\n",
        "Leslie    370429\n",
        "Lesly      10067\n",
        "Name: births, dtype: int64"
       ]
      }
     ],
     "prompt_number": 42
    },
    {
     "cell_type": "code",
     "collapsed": false,
     "input": [
      "table = filtered.pivot_table('births', rows='year', cols='sex', aggfunc='sum')"
     ],
     "language": "python",
     "metadata": {},
     "outputs": [],
     "prompt_number": 43
    },
    {
     "cell_type": "code",
     "collapsed": false,
     "input": [
      "table = table.div(table.sum(1), axis=0)"
     ],
     "language": "python",
     "metadata": {},
     "outputs": [],
     "prompt_number": 44
    },
    {
     "cell_type": "code",
     "collapsed": false,
     "input": [
      "table.tail()"
     ],
     "language": "python",
     "metadata": {},
     "outputs": [
      {
       "html": [
        "<div style=\"max-height:1000px;max-width:1500px;overflow:auto;\">\n",
        "<table border=\"1\" class=\"dataframe\">\n",
        "  <thead>\n",
        "    <tr style=\"text-align: right;\">\n",
        "      <th>sex</th>\n",
        "      <th>F</th>\n",
        "      <th>M</th>\n",
        "    </tr>\n",
        "    <tr>\n",
        "      <th>year</th>\n",
        "      <th></th>\n",
        "      <th></th>\n",
        "    </tr>\n",
        "  </thead>\n",
        "  <tbody>\n",
        "    <tr>\n",
        "      <th>2006</th>\n",
        "      <td> 1</td>\n",
        "      <td>NaN</td>\n",
        "    </tr>\n",
        "    <tr>\n",
        "      <th>2007</th>\n",
        "      <td> 1</td>\n",
        "      <td>NaN</td>\n",
        "    </tr>\n",
        "    <tr>\n",
        "      <th>2008</th>\n",
        "      <td> 1</td>\n",
        "      <td>NaN</td>\n",
        "    </tr>\n",
        "    <tr>\n",
        "      <th>2009</th>\n",
        "      <td> 1</td>\n",
        "      <td>NaN</td>\n",
        "    </tr>\n",
        "    <tr>\n",
        "      <th>2010</th>\n",
        "      <td> 1</td>\n",
        "      <td>NaN</td>\n",
        "    </tr>\n",
        "  </tbody>\n",
        "</table>\n",
        "<p>5 rows \u00d7 2 columns</p>\n",
        "</div>"
       ],
       "metadata": {},
       "output_type": "pyout",
       "prompt_number": 45,
       "text": [
        "sex   F   M\n",
        "year       \n",
        "2006  1 NaN\n",
        "2007  1 NaN\n",
        "2008  1 NaN\n",
        "2009  1 NaN\n",
        "2010  1 NaN\n",
        "\n",
        "[5 rows x 2 columns]"
       ]
      }
     ],
     "prompt_number": 45
    },
    {
     "cell_type": "code",
     "collapsed": false,
     "input": [
      "table.plot(style={'M': 'k-', 'F': 'k--'}, figsize=(12, 5))"
     ],
     "language": "python",
     "metadata": {},
     "outputs": [
      {
       "metadata": {},
       "output_type": "pyout",
       "prompt_number": 47,
       "text": [
        "<matplotlib.axes.AxesSubplot at 0x12006f410>"
       ]
      },
      {
       "metadata": {},
       "output_type": "display_data",
       "png": "[encoded data removed]",
       "text": [
        "<matplotlib.figure.Figure at 0x11af08690>"
       ]
      }
     ],
     "prompt_number": 47
    },
    {
     "cell_type": "code",
     "collapsed": false,
     "input": [],
     "language": "python",
     "metadata": {},
     "outputs": []
    }
   ],
   "metadata": {}
  }
 ]
}