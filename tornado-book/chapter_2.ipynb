{
 "metadata": {
  "name": "",
  "signature": "sha256:fd214fb88f10abf3ae810c4d038061dc0de06bbb0cb5c7d49d5cda6053c91d15"
 },
 "nbformat": 3,
 "nbformat_minor": 0,
 "worksheets": [
  {
   "cells": [
    {
     "cell_type": "markdown",
     "metadata": {},
     "source": [
      "# Chapter 2. Forms and Templates\n",
      "\n",
      "### Simple Example: Poem Maker Pro"
     ]
    }
   ],
   "metadata": {}
  }
 ]
}