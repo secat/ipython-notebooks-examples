{
 "metadata": {
  "name": "",
  "signature": "sha256:34b63b6f61be268f297fccfcf5d81b93e0f5b0d33c6c2d5da162bdef0a6e1c9e"
 },
 "nbformat": 3,
 "nbformat_minor": 0,
 "worksheets": [
  {
   "cells": [
    {
     "cell_type": "markdown",
     "metadata": {},
     "source": [
      "# Building Basic Clients and Servers\n",
      "\n",
      "## A TCP Echo Server and Client\n",
      "\n",
      "In a first terminal run the **echo server**:\n",
      "```\n",
      "python src/chapter_2/echoserver.py\n",
      "```\n",
      "\n",
      "In a second terminal prompt run the **echo client**:\n",
      "```\n",
      "python src/chapter_2/echoclient.py\n",
      "```\n",
      "\n",
      "Here is the output from the echo client:\n",
      "```\n",
      "Started to connect.\n",
      "Server said:Hello, World!\n",
      "Connection lost.\n",
      "```\n",
      "\n",
      "## A TCP Quote Server and Client\n",
      "\n",
      "In a first terminal run the **quote server**:\n",
      "```\n",
      "python src/chapter_2/quoteserver.py\n",
      "```\n",
      "\n",
      "In a second terminal prompt run the **quote client**:\n",
      "```\n",
      "python src/chapter_2/quoteclient.py\n",
      "```\n",
      "\n",
      "Here is the output from the quote server:\n",
      "```\n",
      "Number of active connections: 2\n",
      "> Received: ``You snooze you lose''\n",
      "> Sending: ``An apple a day will make the doctor away''\n",
      "Number of active connections: 3\n",
      "> Received: ``The early birds gets the worm''\n",
      "> Sending: ``You snooze you lose''\n",
      "Number of active connections: 3\n",
      "> Received: ``Carpe diem''\n",
      "> Sending: ``The early birds gets the worm''\n",
      "```\n",
      "\n",
      "Here is the output from the quote client:\n",
      "```\n",
      "Received quote: An apple a day will make the doctor away\n",
      "connection lost: Connection was closed cleanly.\n",
      "Received quote: You snooze you lose\n",
      "connection lost: Connection was closed cleanly.\n",
      "Received quote: The early birds gets the worm\n",
      "connection lost: Connection was closed cleanly.\n",
      "```"
     ]
    },
    {
     "cell_type": "markdown",
     "metadata": {},
     "source": []
    },
    {
     "cell_type": "code",
     "collapsed": false,
     "input": [],
     "language": "python",
     "metadata": {},
     "outputs": []
    },
    {
     "cell_type": "code",
     "collapsed": false,
     "input": [],
     "language": "python",
     "metadata": {},
     "outputs": []
    }
   ],
   "metadata": {}
  }
 ]
}