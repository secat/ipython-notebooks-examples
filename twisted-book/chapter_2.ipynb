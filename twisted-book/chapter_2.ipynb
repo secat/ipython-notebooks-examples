{
 "metadata": {
  "name": "",
  "signature": "sha256:a92193220ffc3db94072c13aa60596ea692b9a0dabb890458c57ebac8732f551"
 },
 "nbformat": 3,
 "nbformat_minor": 0,
 "worksheets": [
  {
   "cells": [
    {
     "cell_type": "markdown",
     "metadata": {},
     "source": [
      "# Building Basic Clients and Servers\n",
      "\n",
      "## A TCP Echo Server and Client\n",
      "\n",
      "In a command prompt run the **echo server**:\n",
      "```\n",
      "python src/chapter_2/echoserver.py\n",
      "```\n",
      "\n",
      "In a second command prompt run the **echo client**:\n",
      "```\n",
      "python src/chapter_2/echoclient.py\n",
      "```\n",
      "\n",
      "Here is the output from the echo client:\n",
      "```\n",
      "Started to connect.\n",
      "Server said:Hello, World!\n",
      "Connection lost.\n",
      "```"
     ]
    },
    {
     "cell_type": "code",
     "collapsed": false,
     "input": [],
     "language": "python",
     "metadata": {},
     "outputs": [],
     "prompt_number": 0
    },
    {
     "cell_type": "code",
     "collapsed": false,
     "input": [],
     "language": "python",
     "metadata": {},
     "outputs": []
    },
    {
     "cell_type": "code",
     "collapsed": false,
     "input": [],
     "language": "python",
     "metadata": {},
     "outputs": []
    }
   ],
   "metadata": {}
  }
 ]
}