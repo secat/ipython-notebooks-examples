{
 "metadata": {
  "name": "",
  "signature": "sha256:9b864b6ae7e74376cc3cc13b90512ce0001f500371f47ccceaafe9e0d70172ac"
 },
 "nbformat": 3,
 "nbformat_minor": 0,
 "worksheets": [
  {
   "cells": [
    {
     "cell_type": "markdown",
     "metadata": {},
     "source": [
      "# Threads and Subprocesses\n",
      "\n",
      "## Threads\n",
      "\n",
      "Here is the execution of the **blocking** example:"
     ]
    },
    {
     "cell_type": "code",
     "collapsed": false,
     "input": [
      "%run src/chapter_10/blocking.py"
     ],
     "language": "python",
     "metadata": {},
     "outputs": [
      {
       "output_type": "stream",
       "stream": "stdout",
       "text": [
        "Duck\n",
        "Duck"
       ]
      },
      {
       "output_type": "stream",
       "stream": "stdout",
       "text": [
        "\n",
        "Duck"
       ]
      },
      {
       "output_type": "stream",
       "stream": "stdout",
       "text": [
        "\n",
        "Duck"
       ]
      },
      {
       "output_type": "stream",
       "stream": "stdout",
       "text": [
        "\n",
        "Duck"
       ]
      },
      {
       "output_type": "stream",
       "stream": "stdout",
       "text": [
        "\n",
        "Goose\n",
        "Duck"
       ]
      },
      {
       "output_type": "stream",
       "stream": "stdout",
       "text": [
        "\n",
        "Duck"
       ]
      },
      {
       "output_type": "stream",
       "stream": "stdout",
       "text": [
        "\n",
        "Duck"
       ]
      },
      {
       "output_type": "stream",
       "stream": "stdout",
       "text": [
        "\n",
        "Duck"
       ]
      },
      {
       "output_type": "stream",
       "stream": "stdout",
       "text": [
        "\n"
       ]
      }
     ],
     "prompt_number": 1
    },
    {
     "cell_type": "markdown",
     "metadata": {},
     "source": [
      "Here is the execution of the **revised blocking** example:"
     ]
    },
    {
     "cell_type": "code",
     "collapsed": false,
     "input": [
      "%run src/chapter_10/blocking_revised.py"
     ],
     "language": "python",
     "metadata": {},
     "outputs": [
      {
       "output_type": "stream",
       "stream": "stdout",
       "text": [
        "Duck\n",
        "Duck"
       ]
      },
      {
       "output_type": "stream",
       "stream": "stdout",
       "text": [
        "\n",
        "Duck"
       ]
      },
      {
       "output_type": "stream",
       "stream": "stdout",
       "text": [
        "\n",
        "Duck"
       ]
      },
      {
       "output_type": "stream",
       "stream": "stdout",
       "text": [
        "\n",
        "Goose"
       ]
      },
      {
       "output_type": "stream",
       "stream": "stdout",
       "text": [
        "\n",
        "Duck\n"
       ]
      }
     ],
     "prompt_number": 1
    },
    {
     "cell_type": "markdown",
     "metadata": {},
     "source": [
      "## Subprocesses\n",
      "\n",
      "### Custom Process Controls\n",
      "\n",
      "Unfortunately, the example from the book which runs the **spawn echo server** does not work:\n",
      "\n",
      "> python twistd_spawnecho.py\n",
      "\n",
      "Here is the output:\n",
      "\n",
      "```\n",
      "connectionMade called\n",
      "errReceived called with 177 bytes of data: \n",
      "Traceback (most recent call last):\n",
      "  File \"/usr/bin/twistd\", line 13, in <module>\n",
      "    from twisted.scripts.twistd import run\n",
      "ImportError: No module named twisted.scripts.twistd\n",
      "\n",
      "errConnectionLost called, stderr closed.\n",
      "outConnectionLost called, stdout closed.\n",
      "processExited called with status 1\n",
      "inConnectionLost called, stdin closed.\n",
      "processEnded called with status 1\n",
      "All FDs are now closed, and the process has been reaped\n",
      "```\n",
      "\n",
      "This is probably a virtual environment problem when the echo server is spawned from the python file..."
     ]
    }
   ],
   "metadata": {}
  }
 ]
}