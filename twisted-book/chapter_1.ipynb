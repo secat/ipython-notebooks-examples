{
 "metadata": {
  "name": "",
  "signature": "sha256:3b8d5b854b9cebb5149085289bef2bf4c4059d391e62c9857bd202344ed84049"
 },
 "nbformat": 3,
 "nbformat_minor": 0,
 "worksheets": [
  {
   "cells": [
    {
     "cell_type": "markdown",
     "metadata": {},
     "source": [
      "# Testing Your Installation\n",
      "\n",
      "### Twisted"
     ]
    },
    {
     "cell_type": "code",
     "collapsed": false,
     "input": [
      "import twisted"
     ],
     "language": "python",
     "metadata": {},
     "outputs": [],
     "prompt_number": 1
    },
    {
     "cell_type": "code",
     "collapsed": false,
     "input": [
      "twisted.__version__"
     ],
     "language": "python",
     "metadata": {},
     "outputs": [
      {
       "metadata": {},
       "output_type": "pyout",
       "prompt_number": 2,
       "text": [
        "'14.0.0'"
       ]
      }
     ],
     "prompt_number": 2
    },
    {
     "cell_type": "markdown",
     "metadata": {},
     "source": [
      "### pyOpenSSL"
     ]
    },
    {
     "cell_type": "code",
     "collapsed": false,
     "input": [
      "import OpenSSL\n",
      "import twisted.internet.ssl\n",
      "twisted.internet.ssl.SSL"
     ],
     "language": "python",
     "metadata": {},
     "outputs": [
      {
       "metadata": {},
       "output_type": "pyout",
       "prompt_number": 4,
       "text": [
        "<module 'OpenSSL.SSL' from '/Users/sophie_serge/work/python/vtwisted/lib/python2.7/site-packages/OpenSSL/SSL.pyc'>"
       ]
      }
     ],
     "prompt_number": 4
    },
    {
     "cell_type": "markdown",
     "metadata": {},
     "source": [
      "### PyCrypto"
     ]
    },
    {
     "cell_type": "code",
     "collapsed": false,
     "input": [
      "import Crypto\n",
      "import twisted.conch.ssh.transport\n",
      "twisted.conch.ssh.transport.md5"
     ],
     "language": "python",
     "metadata": {},
     "outputs": [
      {
       "metadata": {},
       "output_type": "pyout",
       "prompt_number": 6,
       "text": [
        "<function _hashlib.openssl_md5>"
       ]
      }
     ],
     "prompt_number": 6
    },
    {
     "cell_type": "code",
     "collapsed": false,
     "input": [],
     "language": "python",
     "metadata": {},
     "outputs": []
    }
   ],
   "metadata": {}
  }
 ]
}