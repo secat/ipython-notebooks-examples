{
 "metadata": {
  "name": "",
  "signature": "sha256:bffab390755338464ca3e5963204dad52c4e7bbfb60cf0d5641dbe65bc6c257a"
 },
 "nbformat": 3,
 "nbformat_minor": 0,
 "worksheets": [
  {
   "cells": [
    {
     "cell_type": "markdown",
     "metadata": {},
     "source": [
      "# Writing Asynchronous Code with Deferreds\n",
      "\n",
      "## Examples\n",
      "\n",
      "### Using addCallback"
     ]
    },
    {
     "cell_type": "code",
     "collapsed": false,
     "input": [
      "from twisted.internet.defer import Deferred"
     ],
     "language": "python",
     "metadata": {},
     "outputs": [],
     "prompt_number": 2
    },
    {
     "cell_type": "code",
     "collapsed": false,
     "input": [
      "def myCallback(result):\n",
      "    print(result)\n",
      "    \n",
      "d = Deferred()\n",
      "d.addCallback(myCallback)\n",
      "d.callback(\"Triggering callback\")"
     ],
     "language": "python",
     "metadata": {},
     "outputs": [
      {
       "output_type": "stream",
       "stream": "stdout",
       "text": [
        "Triggering callback\n"
       ]
      }
     ],
     "prompt_number": 3
    },
    {
     "cell_type": "markdown",
     "metadata": {},
     "source": [
      "### Using addErrback"
     ]
    },
    {
     "cell_type": "code",
     "collapsed": false,
     "input": [
      "def myErrback(failure):\n",
      "    print(failure)\n",
      "    \n",
      "d = Deferred()\n",
      "d.addErrback(myErrback)\n",
      "d.errback(Exception(\"Triggering errback.\"))"
     ],
     "language": "python",
     "metadata": {},
     "outputs": [
      {
       "output_type": "stream",
       "stream": "stdout",
       "text": [
        "[Failure instance: Traceback (failure with no frames): <type 'exceptions.Exception'>: Triggering errback.\n",
        "]\n"
       ]
      }
     ],
     "prompt_number": 7
    },
    {
     "cell_type": "markdown",
     "metadata": {},
     "source": [
      "### Registering multiple callbacks"
     ]
    },
    {
     "cell_type": "code",
     "collapsed": false,
     "input": [
      "def addBold(result):\n",
      "    return \"<b>{}</b>\".format(result)\n",
      "\n",
      "def addItalic(result):\n",
      "    return \"<i>{}</i>\".format(result)\n",
      "\n",
      "def printHTML(result):\n",
      "    print(result)\n",
      "    \n",
      "d = Deferred()\n",
      "d.addCallback(addBold)\n",
      "d.addCallback(addItalic)\n",
      "d.addCallback(printHTML)\n",
      "d.callback(\"Hello World\")"
     ],
     "language": "python",
     "metadata": {},
     "outputs": [
      {
       "output_type": "stream",
       "stream": "stdout",
       "text": [
        "<i><b>Hello World</b></i>\n"
       ]
      }
     ],
     "prompt_number": 8
    },
    {
     "cell_type": "code",
     "collapsed": false,
     "input": [
      "d = Deferred()\n",
      "d.addCallbacks(myCallback, myErrback)\n",
      "d.callback(\"Triggering callback.\")"
     ],
     "language": "python",
     "metadata": {},
     "outputs": [
      {
       "output_type": "stream",
       "stream": "stdout",
       "text": [
        "Triggering callback.\n"
       ]
      }
     ],
     "prompt_number": 9
    },
    {
     "cell_type": "markdown",
     "metadata": {},
     "source": [
      "## Callback Chains and Using Deferreds in the Reactor"
     ]
    },
    {
     "cell_type": "code",
     "collapsed": false,
     "input": [
      "%cd src/chapter_3"
     ],
     "language": "python",
     "metadata": {},
     "outputs": [
      {
       "output_type": "stream",
       "stream": "stdout",
       "text": [
        "/Users/sophie_serge/work/git/ipython-notebooks-examples/twisted-book/src/chapter_3\n"
       ]
      }
     ],
     "prompt_number": 18
    },
    {
     "cell_type": "code",
     "collapsed": false,
     "input": [
      "import async_headline_retriever as ahr\n",
      "\n",
      "h = ahr.HeadlineRetriever()\n",
      "d = h.get_headline(\n",
      "    \"Breakin News: Twisted Takes Us to the Moon!\"\n",
      ")\n",
      "d.addCallbacks(ahr.print_data, ahr.print_error)\n",
      "\n",
      "ahr.reactor.run()"
     ],
     "language": "python",
     "metadata": {},
     "outputs": [
      {
       "output_type": "stream",
       "stream": "stdout",
       "text": [
        "<h1>Breakin News: Twisted Takes Us to the Moon!<h1>\n"
       ]
      }
     ],
     "prompt_number": 23
    },
    {
     "cell_type": "code",
     "collapsed": false,
     "input": [
      "%cd src/chapter_3"
     ],
     "language": "python",
     "metadata": {},
     "outputs": [
      {
       "output_type": "stream",
       "stream": "stdout",
       "text": [
        "/Users/sophie_serge/work/git/ipython-notebooks-examples/twisted-book/src/chapter_3\n"
       ]
      }
     ],
     "prompt_number": 1
    },
    {
     "cell_type": "code",
     "collapsed": false,
     "input": [
      "import async_headline_retriever as ahr\n",
      "\n",
      "h = ahr.HeadlineRetriever()\n",
      "d = h.get_headline(\n",
      "    \"1234567890\" * 6\n",
      ")\n",
      "d.addCallbacks(ahr.print_data, ahr.print_error)\n",
      "\n",
      "ahr.reactor.run()"
     ],
     "language": "python",
     "metadata": {},
     "outputs": [
      {
       "output_type": "stream",
       "stream": "stdout",
       "text": [
        "[Failure instance: Traceback (failure with no frames): <class 'twisted.python.failure.DefaultException'>: The headline '123456789012345678901234567890123456789012345678901234567890' is too long\n",
        "]\n"
       ]
      }
     ],
     "prompt_number": 2
    },
    {
     "cell_type": "markdown",
     "metadata": {},
     "source": [
      "## Practice: What Do These Deferred Chains Do?\n",
      "\n",
      "### Examples"
     ]
    },
    {
     "cell_type": "code",
     "collapsed": false,
     "input": [
      "from twisted.internet.defer import Deferred\n",
      "from twisted.python.failure import DefaultException\n",
      "\n",
      "def callback1(result):\n",
      "    print(\"Callback 1 said: {}\".format(result))\n",
      "    return result\n",
      "\n",
      "def callback2(result):\n",
      "    print(\"Callback 2 said: {}\".format(result))\n",
      "    return result\n",
      "    \n",
      "def callback3(result):\n",
      "    raise Exception(\"Callback 3\")\n",
      "    \n",
      "def errback1(failure):\n",
      "    print(\"Errback 1 had an error on {}\".format(failure))\n",
      "    return failure\n",
      "\n",
      "def errback2(failure):\n",
      "    raise Exception(\"Errback 2\")\n",
      "    \n",
      "def errback3(failure):\n",
      "    print(\"Errback 3 took care of {}\".format(failure))\n",
      "    return \"Everything is fine now\""
     ],
     "language": "python",
     "metadata": {},
     "outputs": [],
     "prompt_number": 1
    },
    {
     "cell_type": "markdown",
     "metadata": {},
     "source": [
      "Exercise 1"
     ]
    },
    {
     "cell_type": "code",
     "collapsed": false,
     "input": [
      "d = Deferred()\n",
      "d.addCallback(callback1)\n",
      "d.addCallback(callback2)\n",
      "d.callback(\"Test\")"
     ],
     "language": "python",
     "metadata": {},
     "outputs": [
      {
       "output_type": "stream",
       "stream": "stdout",
       "text": [
        "Callback 1 said: Test\n",
        "Callback 2 said: Test\n"
       ]
      }
     ],
     "prompt_number": 2
    },
    {
     "cell_type": "markdown",
     "metadata": {},
     "source": [
      "Exercise 2"
     ]
    },
    {
     "cell_type": "code",
     "collapsed": false,
     "input": [
      "d = Deferred()\n",
      "d.addCallback(callback1)\n",
      "d.addCallback(callback2)\n",
      "d.addCallback(callback3)\n",
      "d.callback(\"Test\")"
     ],
     "language": "python",
     "metadata": {},
     "outputs": [
      {
       "output_type": "stream",
       "stream": "stderr",
       "text": [
        "Unhandled error in Deferred:\n"
       ]
      },
      {
       "output_type": "stream",
       "stream": "stdout",
       "text": [
        "Callback 1 said: Test\n",
        "Callback 2 said: Test\n"
       ]
      }
     ],
     "prompt_number": 5
    },
    {
     "cell_type": "markdown",
     "metadata": {},
     "source": [
      "Exercise 3"
     ]
    },
    {
     "cell_type": "code",
     "collapsed": false,
     "input": [
      "d = Deferred()\n",
      "d.addCallback(callback1)\n",
      "d.addCallback(callback2)\n",
      "d.addCallback(callback3)\n",
      "d.addErrback(errback3)\n",
      "d.callback(\"Test\")"
     ],
     "language": "python",
     "metadata": {},
     "outputs": [
      {
       "output_type": "stream",
       "stream": "stdout",
       "text": [
        "Callback 1 said: Test\n",
        "Callback 2 said: Test\n",
        "Errback 3 took care of [Failure instance: Traceback: <type 'exceptions.Exception'>: Callback 3\n",
        "/Users/sophie_serge/work/python/vtwisted/lib/python2.7/site-packages/IPython/core/interactiveshell.py:2883:run_code\n",
        "<ipython-input-7-92156bb46076>:6:<module>\n",
        "/Users/sophie_serge/work/python/vtwisted/lib/python2.7/site-packages/twisted/internet/defer.py:382:callback\n",
        "/Users/sophie_serge/work/python/vtwisted/lib/python2.7/site-packages/twisted/internet/defer.py:490:_startRunCallbacks\n",
        "--- <exception caught here> ---\n",
        "/Users/sophie_serge/work/python/vtwisted/lib/python2.7/site-packages/twisted/internet/defer.py:577:_runCallbacks\n",
        "<ipython-input-1-9fa22bba60d5>:13:callback3\n",
        "]\n"
       ]
      }
     ],
     "prompt_number": 7
    },
    {
     "cell_type": "markdown",
     "metadata": {},
     "source": [
      "Exercise 4"
     ]
    },
    {
     "cell_type": "code",
     "collapsed": false,
     "input": [
      "d = Deferred()\n",
      "d.addErrback(errback1)\n",
      "d.errback(DefaultException(\"Test\"))"
     ],
     "language": "python",
     "metadata": {},
     "outputs": [
      {
       "output_type": "stream",
       "stream": "stderr",
       "text": [
        "Unhandled error in Deferred:\n"
       ]
      },
      {
       "output_type": "stream",
       "stream": "stderr",
       "text": [
        "Unhandled Error\n",
        "Traceback (most recent call last):\n",
        "Failure: twisted.python.failure.DefaultException: Test\n"
       ]
      },
      {
       "output_type": "stream",
       "stream": "stdout",
       "text": [
        "Errback 1 had an error on [Failure instance: Traceback (failure with no frames): <class 'twisted.python.failure.DefaultException'>: Test\n",
        "]\n"
       ]
      }
     ],
     "prompt_number": 9
    },
    {
     "cell_type": "markdown",
     "metadata": {},
     "source": [
      "Exercise 5"
     ]
    },
    {
     "cell_type": "code",
     "collapsed": false,
     "input": [
      "d = Deferred()\n",
      "d.addErrback(errback1)\n",
      "d.addErrback(errback3)\n",
      "d.errback(DefaultException(\"Test\"))"
     ],
     "language": "python",
     "metadata": {},
     "outputs": [
      {
       "output_type": "stream",
       "stream": "stdout",
       "text": [
        "Errback 1 had an error on [Failure instance: Traceback (failure with no frames): <class 'twisted.python.failure.DefaultException'>: Test\n",
        "]\n",
        "Errback 3 took care of [Failure instance: Traceback (failure with no frames): <class 'twisted.python.failure.DefaultException'>: Test\n",
        "]\n"
       ]
      }
     ],
     "prompt_number": 11
    },
    {
     "cell_type": "markdown",
     "metadata": {},
     "source": [
      "Exercise 6"
     ]
    },
    {
     "cell_type": "code",
     "collapsed": false,
     "input": [
      "d = Deferred()\n",
      "d.addErrback(errback2)\n",
      "d.errback(DefaultException(\"Test\"))"
     ],
     "language": "python",
     "metadata": {},
     "outputs": [
      {
       "output_type": "stream",
       "stream": "stderr",
       "text": [
        "Unhandled error in Deferred:\n"
       ]
      }
     ],
     "prompt_number": 13
    },
    {
     "cell_type": "markdown",
     "metadata": {},
     "source": [
      "Exercise 7"
     ]
    },
    {
     "cell_type": "code",
     "collapsed": false,
     "input": [
      "d = Deferred()\n",
      "d.addCallback(callback1)\n",
      "d.addCallback(callback2)\n",
      "d.addCallbacks(callback3, errback3)\n",
      "d.callback(\"Test\")"
     ],
     "language": "python",
     "metadata": {},
     "outputs": [
      {
       "output_type": "stream",
       "stream": "stderr",
       "text": [
        "Unhandled error in Deferred:\n"
       ]
      },
      {
       "output_type": "stream",
       "stream": "stdout",
       "text": [
        "Callback 1 said: Test\n",
        "Callback 2 said: Test\n"
       ]
      }
     ],
     "prompt_number": 16
    },
    {
     "cell_type": "markdown",
     "metadata": {},
     "source": [
      "Exercise 8"
     ]
    },
    {
     "cell_type": "code",
     "collapsed": false,
     "input": [
      "d = Deferred()\n",
      "d.addCallback(callback3)\n",
      "d.addCallbacks(callback2, errback3)\n",
      "d.addCallbacks(callback1, errback2)\n",
      "d.callback(\"Test\")"
     ],
     "language": "python",
     "metadata": {},
     "outputs": [
      {
       "output_type": "stream",
       "stream": "stdout",
       "text": [
        "Errback 3 took care of [Failure instance: Traceback: <type 'exceptions.Exception'>: Callback 3\n",
        "/Users/sophie_serge/work/python/vtwisted/lib/python2.7/site-packages/IPython/core/interactiveshell.py:2883:run_code\n",
        "<ipython-input-20-2ff34230b152>:5:<module>\n",
        "/Users/sophie_serge/work/python/vtwisted/lib/python2.7/site-packages/twisted/internet/defer.py:382:callback\n",
        "/Users/sophie_serge/work/python/vtwisted/lib/python2.7/site-packages/twisted/internet/defer.py:490:_startRunCallbacks\n",
        "--- <exception caught here> ---\n",
        "/Users/sophie_serge/work/python/vtwisted/lib/python2.7/site-packages/twisted/internet/defer.py:577:_runCallbacks\n",
        "<ipython-input-1-9fa22bba60d5>:13:callback3\n",
        "]\n",
        "Callback 1 said: Everything is fine now\n"
       ]
      }
     ],
     "prompt_number": 20
    },
    {
     "cell_type": "code",
     "collapsed": false,
     "input": [],
     "language": "python",
     "metadata": {},
     "outputs": []
    }
   ],
   "metadata": {}
  }
 ]
}