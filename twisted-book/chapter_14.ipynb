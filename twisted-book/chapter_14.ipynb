{
 "metadata": {
  "name": "",
  "signature": "sha256:ae72848169adc456821b5fe53f974fe1103f42d89da40f467d07a1d2ab9be7b9"
 },
 "nbformat": 3,
 "nbformat_minor": 0,
 "worksheets": [
  {
   "cells": [
    {
     "cell_type": "markdown",
     "metadata": {},
     "source": [
      "# SSH\n",
      "\n",
      "## SSH Servers\n",
      "\n",
      "### A Basic SSH Server\n",
      "\n",
      "First of all, we need to generate an **ssh rsa key**:\n",
      "\n",
      "> ssh-keygen -t rsa\n",
      "\n",
      "Here is an example of the output:\n",
      "\n",
      "```\n",
      "Generating public/private rsa key pair.\n",
      "Enter file in which to save the key (/Users/sophie_serge/.ssh/id_rsa): \n",
      "Created directory '/Users/sophie_serge/.ssh'.\n",
      "Enter passphrase (empty for no passphrase): \n",
      "Enter same passphrase again: \n",
      "Your identification has been saved in /Users/sophie_serge/.ssh/id_rsa.\n",
      "Your public key has been saved in /Users/sophie_serge/.ssh/id_rsa.pub.\n",
      "The key fingerprint is:\n",
      "07:7e:d5:c7:92:c8:bb:ad:21:6c:1f:75:cd:7f:4e:40 sophie_serge@Serges-MacBook-Pro.local\n",
      "```\n",
      "\n",
      "In a first terminal run the **ssh server**:\n",
      "\n",
      "> python src/chapter_14/sshserver.py\n",
      "\n",
      "In a second terminal open an **ssh connection**:\n",
      "\n",
      "> ssh admin@localhost -p 2222\n",
      "\n",
      "Here is an example of the outputs:\n",
      "\n",
      "```\n",
      ">>> Welcome to my test SSH server.\n",
      "commands: clear echo help quit whoami\n",
      "$ whoami\n",
      "admin\n",
      "$ echo hello SSH world!\n",
      "hello SSH world!\n",
      "$ quit\n",
      "Connection to localhost closed.\n",
      "```\n",
      "\n",
      "## Using Public Keys for Athentication"
     ]
    }
   ],
   "metadata": {}
  }
 ]
}